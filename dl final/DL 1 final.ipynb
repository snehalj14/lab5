{
 "cells": [
  {
   "cell_type": "code",
   "execution_count": 1,
   "id": "4937fec9",
   "metadata": {},
   "outputs": [],
   "source": [
    "import numpy as np\n",
    "import pandas as pd\n",
    "import matplotlib.pyplot as plt\n",
    "import tensorflow as tf\n",
    "from tensorflow.keras.datasets import boston_housing\n",
    "from sklearn.preprocessing import StandardScaler\n",
    "from sklearn.model_selection import train_test_split\n",
    "from tensorflow.keras.models import Sequential\n",
    "from tensorflow.keras.layers import Dense"
   ]
  },
  {
   "cell_type": "code",
   "execution_count": 2,
   "id": "e29f3dec",
   "metadata": {},
   "outputs": [],
   "source": [
    "(x_train, y_train), (x_test, y_test) = boston_housing.load_data()"
   ]
  },
  {
   "cell_type": "code",
   "execution_count": 3,
   "id": "39d7ac2f",
   "metadata": {},
   "outputs": [],
   "source": [
    "scaler = StandardScaler()"
   ]
  },
  {
   "cell_type": "code",
   "execution_count": 4,
   "id": "f68034b2",
   "metadata": {},
   "outputs": [],
   "source": [
    "x_train = scaler.fit_transform(x_train)\n",
    "x_test = scaler.fit_transform(x_test)"
   ]
  },
  {
   "cell_type": "code",
   "execution_count": 5,
   "id": "2c48e002",
   "metadata": {},
   "outputs": [],
   "source": [
    "x_train, x_val, y_train, y_val = train_test_split(x_train, y_train, test_size=0.2, random_state=42)"
   ]
  },
  {
   "cell_type": "code",
   "execution_count": 6,
   "id": "60a3b92c",
   "metadata": {},
   "outputs": [],
   "source": [
    "model = Sequential()\n",
    "model.add(Dense(128, activation = 'relu', input_shape = (x_train.shape[1],)))\n",
    "model.add(Dense(64, activation = 'relu'))\n",
    "model.add(Dense(1))"
   ]
  },
  {
   "cell_type": "code",
   "execution_count": 7,
   "id": "aeea632a",
   "metadata": {},
   "outputs": [],
   "source": [
    "model.compile(optimizer='adam', loss='mean_squared_error', metrics = ['mae'])"
   ]
  },
  {
   "cell_type": "code",
   "execution_count": 8,
   "id": "dc48a4c9",
   "metadata": {},
   "outputs": [
    {
     "name": "stdout",
     "output_type": "stream",
     "text": [
      "Epoch 1/100\n",
      "9/9 [==============================] - 20s 795ms/step - loss: 583.5929 - mae: 22.1930 - val_loss: 649.9418 - val_mae: 23.4596\n",
      "Epoch 2/100\n",
      "9/9 [==============================] - 5s 602ms/step - loss: 523.4177 - mae: 20.8392 - val_loss: 580.4589 - val_mae: 22.0345\n",
      "Epoch 3/100\n",
      "9/9 [==============================] - 2s 234ms/step - loss: 459.2091 - mae: 19.2941 - val_loss: 499.4499 - val_mae: 20.2217\n",
      "Epoch 4/100\n",
      "9/9 [==============================] - 2s 236ms/step - loss: 383.0315 - mae: 17.3069 - val_loss: 400.5557 - val_mae: 17.8117\n",
      "Epoch 5/100\n",
      "9/9 [==============================] - 2s 229ms/step - loss: 296.0552 - mae: 14.8373 - val_loss: 291.7882 - val_mae: 14.8730\n",
      "Epoch 6/100\n",
      "9/9 [==============================] - 2s 230ms/step - loss: 206.7503 - mae: 11.9339 - val_loss: 187.6485 - val_mae: 11.4932\n",
      "Epoch 7/100\n",
      "9/9 [==============================] - 2s 224ms/step - loss: 133.2799 - mae: 9.2315 - val_loss: 110.1264 - val_mae: 8.4781\n",
      "Epoch 8/100\n",
      "9/9 [==============================] - 2s 223ms/step - loss: 88.0977 - mae: 7.2740 - val_loss: 71.9010 - val_mae: 6.8484\n",
      "Epoch 9/100\n",
      "9/9 [==============================] - 2s 235ms/step - loss: 69.5887 - mae: 6.4041 - val_loss: 54.1314 - val_mae: 5.7776\n",
      "Epoch 10/100\n",
      "9/9 [==============================] - 2s 230ms/step - loss: 58.2073 - mae: 5.7262 - val_loss: 41.4245 - val_mae: 5.0580\n",
      "Epoch 11/100\n",
      "9/9 [==============================] - 2s 232ms/step - loss: 47.7461 - mae: 5.0615 - val_loss: 31.9721 - val_mae: 4.3861\n",
      "Epoch 12/100\n",
      "9/9 [==============================] - 2s 230ms/step - loss: 39.9378 - mae: 4.5385 - val_loss: 26.2078 - val_mae: 3.9277\n",
      "Epoch 13/100\n",
      "9/9 [==============================] - 2s 227ms/step - loss: 34.1347 - mae: 4.1412 - val_loss: 21.9585 - val_mae: 3.6557\n",
      "Epoch 14/100\n",
      "9/9 [==============================] - 2s 230ms/step - loss: 29.4706 - mae: 3.9159 - val_loss: 20.4010 - val_mae: 3.5326\n",
      "Epoch 15/100\n",
      "9/9 [==============================] - 2s 250ms/step - loss: 27.4238 - mae: 3.7826 - val_loss: 20.0024 - val_mae: 3.5031\n",
      "Epoch 16/100\n",
      "9/9 [==============================] - 2s 240ms/step - loss: 25.8705 - mae: 3.6648 - val_loss: 19.6173 - val_mae: 3.4873\n",
      "Epoch 17/100\n",
      "9/9 [==============================] - 2s 245ms/step - loss: 24.8987 - mae: 3.6444 - val_loss: 21.2897 - val_mae: 3.7372\n",
      "Epoch 18/100\n",
      "9/9 [==============================] - 2s 245ms/step - loss: 24.3312 - mae: 3.6367 - val_loss: 20.1635 - val_mae: 3.5919\n",
      "Epoch 19/100\n",
      "9/9 [==============================] - 2s 234ms/step - loss: 22.9394 - mae: 3.4530 - val_loss: 18.1723 - val_mae: 3.3221\n",
      "Epoch 20/100\n",
      "9/9 [==============================] - 2s 229ms/step - loss: 21.6957 - mae: 3.2665 - val_loss: 17.2816 - val_mae: 3.1862\n",
      "Epoch 21/100\n",
      "9/9 [==============================] - 2s 234ms/step - loss: 21.4122 - mae: 3.2168 - val_loss: 16.9355 - val_mae: 3.1551\n",
      "Epoch 22/100\n",
      "9/9 [==============================] - 2s 224ms/step - loss: 20.9164 - mae: 3.1656 - val_loss: 16.6163 - val_mae: 3.1640\n",
      "Epoch 23/100\n",
      "9/9 [==============================] - 2s 235ms/step - loss: 20.0402 - mae: 3.0959 - val_loss: 16.7098 - val_mae: 3.1871\n",
      "Epoch 24/100\n",
      "9/9 [==============================] - 2s 227ms/step - loss: 19.4510 - mae: 3.0654 - val_loss: 16.7588 - val_mae: 3.1982\n",
      "Epoch 25/100\n",
      "9/9 [==============================] - 2s 223ms/step - loss: 18.9418 - mae: 3.0050 - val_loss: 16.0478 - val_mae: 3.1455\n",
      "Epoch 26/100\n",
      "9/9 [==============================] - 2s 234ms/step - loss: 18.4871 - mae: 2.9739 - val_loss: 16.1940 - val_mae: 3.1602\n",
      "Epoch 27/100\n",
      "9/9 [==============================] - 2s 243ms/step - loss: 17.9660 - mae: 2.9573 - val_loss: 16.0945 - val_mae: 3.1618\n",
      "Epoch 28/100\n",
      "9/9 [==============================] - 2s 229ms/step - loss: 17.6098 - mae: 2.9669 - val_loss: 15.6102 - val_mae: 3.1119\n",
      "Epoch 29/100\n",
      "9/9 [==============================] - 2s 234ms/step - loss: 17.1575 - mae: 2.9137 - val_loss: 15.2928 - val_mae: 3.1069\n",
      "Epoch 30/100\n",
      "9/9 [==============================] - 2s 231ms/step - loss: 16.7443 - mae: 2.8592 - val_loss: 14.9078 - val_mae: 3.0637\n",
      "Epoch 31/100\n",
      "9/9 [==============================] - 2s 240ms/step - loss: 16.3200 - mae: 2.8030 - val_loss: 14.9596 - val_mae: 3.0633\n",
      "Epoch 32/100\n",
      "9/9 [==============================] - 2s 226ms/step - loss: 15.9412 - mae: 2.7689 - val_loss: 15.1556 - val_mae: 3.0766\n",
      "Epoch 33/100\n",
      "9/9 [==============================] - 2s 228ms/step - loss: 15.6236 - mae: 2.7627 - val_loss: 15.2505 - val_mae: 3.1022\n",
      "Epoch 34/100\n",
      "9/9 [==============================] - 2s 254ms/step - loss: 15.3919 - mae: 2.7657 - val_loss: 15.0449 - val_mae: 3.0960\n",
      "Epoch 35/100\n",
      "9/9 [==============================] - 2s 248ms/step - loss: 15.0060 - mae: 2.7144 - val_loss: 14.2593 - val_mae: 3.0018\n",
      "Epoch 36/100\n",
      "9/9 [==============================] - 2s 234ms/step - loss: 14.8289 - mae: 2.6720 - val_loss: 14.0668 - val_mae: 2.9844\n",
      "Epoch 37/100\n",
      "9/9 [==============================] - 2s 226ms/step - loss: 14.6656 - mae: 2.6504 - val_loss: 13.8888 - val_mae: 2.9555\n",
      "Epoch 38/100\n",
      "9/9 [==============================] - 2s 232ms/step - loss: 14.3825 - mae: 2.6185 - val_loss: 13.6582 - val_mae: 2.9295\n",
      "Epoch 39/100\n",
      "9/9 [==============================] - 2s 233ms/step - loss: 14.1786 - mae: 2.6074 - val_loss: 13.5785 - val_mae: 2.9063\n",
      "Epoch 40/100\n",
      "9/9 [==============================] - 2s 234ms/step - loss: 13.8034 - mae: 2.5684 - val_loss: 12.8878 - val_mae: 2.8185\n",
      "Epoch 41/100\n",
      "9/9 [==============================] - 2s 270ms/step - loss: 13.7189 - mae: 2.5671 - val_loss: 12.5569 - val_mae: 2.7630\n",
      "Epoch 42/100\n",
      "9/9 [==============================] - 2s 267ms/step - loss: 13.4802 - mae: 2.5466 - val_loss: 12.2503 - val_mae: 2.7255\n",
      "Epoch 43/100\n",
      "9/9 [==============================] - 2s 226ms/step - loss: 13.2255 - mae: 2.5161 - val_loss: 12.0258 - val_mae: 2.7019\n",
      "Epoch 44/100\n",
      "9/9 [==============================] - 2s 233ms/step - loss: 12.9269 - mae: 2.5027 - val_loss: 12.6718 - val_mae: 2.7999\n",
      "Epoch 45/100\n",
      "9/9 [==============================] - 2s 231ms/step - loss: 13.2284 - mae: 2.5797 - val_loss: 16.1552 - val_mae: 3.2851\n",
      "Epoch 46/100\n",
      "9/9 [==============================] - 2s 234ms/step - loss: 14.0097 - mae: 2.6832 - val_loss: 14.2197 - val_mae: 3.0485\n",
      "Epoch 47/100\n",
      "9/9 [==============================] - 2s 224ms/step - loss: 12.4996 - mae: 2.5137 - val_loss: 12.8446 - val_mae: 2.8425\n",
      "Epoch 48/100\n",
      "9/9 [==============================] - 2s 242ms/step - loss: 12.1827 - mae: 2.4655 - val_loss: 12.2820 - val_mae: 2.7548\n",
      "Epoch 49/100\n",
      "9/9 [==============================] - 2s 224ms/step - loss: 12.2009 - mae: 2.4592 - val_loss: 12.4198 - val_mae: 2.7816\n",
      "Epoch 50/100\n",
      "9/9 [==============================] - 2s 224ms/step - loss: 11.9002 - mae: 2.4022 - val_loss: 12.4124 - val_mae: 2.7987\n",
      "Epoch 51/100\n",
      "9/9 [==============================] - 2s 224ms/step - loss: 11.7084 - mae: 2.3945 - val_loss: 12.9920 - val_mae: 2.8924\n",
      "Epoch 52/100\n",
      "9/9 [==============================] - 2s 228ms/step - loss: 11.4844 - mae: 2.3585 - val_loss: 11.8732 - val_mae: 2.7325\n",
      "Epoch 53/100\n",
      "9/9 [==============================] - 2s 229ms/step - loss: 11.2223 - mae: 2.2977 - val_loss: 11.7081 - val_mae: 2.7265\n",
      "Epoch 54/100\n",
      "9/9 [==============================] - 2s 229ms/step - loss: 11.2114 - mae: 2.3133 - val_loss: 12.0768 - val_mae: 2.7971\n",
      "Epoch 55/100\n",
      "9/9 [==============================] - 2s 230ms/step - loss: 11.0696 - mae: 2.3085 - val_loss: 12.1453 - val_mae: 2.7907\n",
      "Epoch 56/100\n",
      "9/9 [==============================] - 2s 228ms/step - loss: 11.0137 - mae: 2.3133 - val_loss: 12.2257 - val_mae: 2.8019\n",
      "Epoch 57/100\n",
      "9/9 [==============================] - 2s 225ms/step - loss: 11.0362 - mae: 2.3370 - val_loss: 12.0247 - val_mae: 2.7694\n",
      "Epoch 58/100\n",
      "9/9 [==============================] - 2s 222ms/step - loss: 10.7825 - mae: 2.2910 - val_loss: 11.1369 - val_mae: 2.6591\n",
      "Epoch 59/100\n",
      "9/9 [==============================] - 2s 226ms/step - loss: 10.5514 - mae: 2.2645 - val_loss: 11.0313 - val_mae: 2.6415\n",
      "Epoch 60/100\n",
      "9/9 [==============================] - 2s 228ms/step - loss: 10.4178 - mae: 2.2512 - val_loss: 10.9985 - val_mae: 2.6423\n",
      "Epoch 61/100\n",
      "9/9 [==============================] - 2s 229ms/step - loss: 10.4567 - mae: 2.2332 - val_loss: 11.1434 - val_mae: 2.6690\n",
      "Epoch 62/100\n"
     ]
    },
    {
     "name": "stdout",
     "output_type": "stream",
     "text": [
      "9/9 [==============================] - 2s 225ms/step - loss: 10.6021 - mae: 2.2470 - val_loss: 11.5169 - val_mae: 2.7249\n",
      "Epoch 63/100\n",
      "9/9 [==============================] - 2s 229ms/step - loss: 10.2723 - mae: 2.2218 - val_loss: 11.6945 - val_mae: 2.7160\n",
      "Epoch 64/100\n",
      "9/9 [==============================] - 2s 229ms/step - loss: 10.1775 - mae: 2.2067 - val_loss: 11.3655 - val_mae: 2.6548\n",
      "Epoch 65/100\n",
      "9/9 [==============================] - 2s 233ms/step - loss: 10.0743 - mae: 2.1818 - val_loss: 10.7892 - val_mae: 2.5939\n",
      "Epoch 66/100\n",
      "9/9 [==============================] - 2s 228ms/step - loss: 10.0666 - mae: 2.1565 - val_loss: 10.6079 - val_mae: 2.6066\n",
      "Epoch 67/100\n",
      "9/9 [==============================] - 2s 223ms/step - loss: 9.9656 - mae: 2.1999 - val_loss: 11.3466 - val_mae: 2.6866\n",
      "Epoch 68/100\n",
      "9/9 [==============================] - 2s 224ms/step - loss: 9.8319 - mae: 2.1982 - val_loss: 11.6684 - val_mae: 2.6955\n",
      "Epoch 69/100\n",
      "9/9 [==============================] - 2s 227ms/step - loss: 9.7864 - mae: 2.1865 - val_loss: 11.1600 - val_mae: 2.6225\n",
      "Epoch 70/100\n",
      "9/9 [==============================] - 2s 228ms/step - loss: 9.6063 - mae: 2.1676 - val_loss: 11.0544 - val_mae: 2.6353\n",
      "Epoch 71/100\n",
      "9/9 [==============================] - 2s 232ms/step - loss: 9.5977 - mae: 2.1680 - val_loss: 10.4305 - val_mae: 2.5423\n",
      "Epoch 72/100\n",
      "9/9 [==============================] - 2s 228ms/step - loss: 9.5359 - mae: 2.1496 - val_loss: 10.7056 - val_mae: 2.5792\n",
      "Epoch 73/100\n",
      "9/9 [==============================] - 2s 234ms/step - loss: 9.5027 - mae: 2.1611 - val_loss: 10.7769 - val_mae: 2.6117\n",
      "Epoch 74/100\n",
      "9/9 [==============================] - 2s 228ms/step - loss: 9.5953 - mae: 2.1591 - val_loss: 10.2477 - val_mae: 2.5333\n",
      "Epoch 75/100\n",
      "9/9 [==============================] - 2s 228ms/step - loss: 9.4743 - mae: 2.1381 - val_loss: 10.6393 - val_mae: 2.5818\n",
      "Epoch 76/100\n",
      "9/9 [==============================] - 2s 225ms/step - loss: 9.4231 - mae: 2.1194 - val_loss: 10.6212 - val_mae: 2.6314\n",
      "Epoch 77/100\n",
      "9/9 [==============================] - 2s 225ms/step - loss: 9.4163 - mae: 2.1247 - val_loss: 10.5470 - val_mae: 2.5727\n",
      "Epoch 78/100\n",
      "9/9 [==============================] - 2s 226ms/step - loss: 9.1308 - mae: 2.1080 - val_loss: 10.4996 - val_mae: 2.5570\n",
      "Epoch 79/100\n",
      "9/9 [==============================] - 2s 225ms/step - loss: 9.0690 - mae: 2.1062 - val_loss: 10.3966 - val_mae: 2.5605\n",
      "Epoch 80/100\n",
      "9/9 [==============================] - 2s 227ms/step - loss: 9.0370 - mae: 2.1041 - val_loss: 10.4379 - val_mae: 2.5625\n",
      "Epoch 81/100\n",
      "9/9 [==============================] - 2s 229ms/step - loss: 9.0122 - mae: 2.1144 - val_loss: 10.3993 - val_mae: 2.5689\n",
      "Epoch 82/100\n",
      "9/9 [==============================] - 2s 225ms/step - loss: 9.0226 - mae: 2.1192 - val_loss: 10.2965 - val_mae: 2.5411\n",
      "Epoch 83/100\n",
      "9/9 [==============================] - 2s 208ms/step - loss: 8.9383 - mae: 2.0812 - val_loss: 10.0332 - val_mae: 2.5166\n",
      "Epoch 84/100\n",
      "9/9 [==============================] - 2s 215ms/step - loss: 8.8982 - mae: 2.0728 - val_loss: 9.9621 - val_mae: 2.5136\n",
      "Epoch 85/100\n",
      "9/9 [==============================] - 2s 222ms/step - loss: 8.7900 - mae: 2.0556 - val_loss: 10.4030 - val_mae: 2.5474\n",
      "Epoch 86/100\n",
      "9/9 [==============================] - 2s 226ms/step - loss: 8.9640 - mae: 2.0832 - val_loss: 10.4300 - val_mae: 2.6323\n",
      "Epoch 87/100\n",
      "9/9 [==============================] - 2s 229ms/step - loss: 8.9895 - mae: 2.0926 - val_loss: 10.6215 - val_mae: 2.5971\n",
      "Epoch 88/100\n",
      "9/9 [==============================] - 2s 233ms/step - loss: 9.1021 - mae: 2.0608 - val_loss: 10.5120 - val_mae: 2.5451\n",
      "Epoch 89/100\n",
      "9/9 [==============================] - 2s 225ms/step - loss: 8.9072 - mae: 2.0451 - val_loss: 10.1129 - val_mae: 2.5275\n",
      "Epoch 90/100\n",
      "9/9 [==============================] - 2s 230ms/step - loss: 8.5723 - mae: 2.0238 - val_loss: 10.1613 - val_mae: 2.5448\n",
      "Epoch 91/100\n",
      "9/9 [==============================] - 2s 228ms/step - loss: 8.5379 - mae: 2.0447 - val_loss: 10.1110 - val_mae: 2.5057\n",
      "Epoch 92/100\n",
      "9/9 [==============================] - 2s 231ms/step - loss: 8.4743 - mae: 2.0406 - val_loss: 9.8451 - val_mae: 2.4550\n",
      "Epoch 93/100\n",
      "9/9 [==============================] - 2s 225ms/step - loss: 8.5069 - mae: 2.0519 - val_loss: 9.2330 - val_mae: 2.3892\n",
      "Epoch 94/100\n",
      "9/9 [==============================] - 2s 223ms/step - loss: 8.7191 - mae: 2.0687 - val_loss: 9.3296 - val_mae: 2.3843\n",
      "Epoch 95/100\n",
      "9/9 [==============================] - 2s 239ms/step - loss: 8.5087 - mae: 2.0317 - val_loss: 9.7065 - val_mae: 2.4154\n",
      "Epoch 96/100\n",
      "9/9 [==============================] - 2s 235ms/step - loss: 8.3462 - mae: 2.0395 - val_loss: 10.8097 - val_mae: 2.5522\n",
      "Epoch 97/100\n",
      "9/9 [==============================] - 2s 225ms/step - loss: 8.3646 - mae: 2.0503 - val_loss: 10.1290 - val_mae: 2.4752\n",
      "Epoch 98/100\n",
      "9/9 [==============================] - 2s 225ms/step - loss: 8.2273 - mae: 2.0113 - val_loss: 9.8154 - val_mae: 2.4360\n",
      "Epoch 99/100\n",
      "9/9 [==============================] - 2s 228ms/step - loss: 8.1806 - mae: 2.0133 - val_loss: 10.0724 - val_mae: 2.4571\n",
      "Epoch 100/100\n",
      "9/9 [==============================] - 2s 230ms/step - loss: 8.1967 - mae: 2.0222 - val_loss: 9.5506 - val_mae: 2.4059\n"
     ]
    }
   ],
   "source": [
    "batch_size = 32\n",
    "epochs = 100\n",
    "history = model.fit(x_train, y_train, batch_size=batch_size, epochs=epochs, validation_split=0.2)"
   ]
  },
  {
   "cell_type": "code",
   "execution_count": 9,
   "id": "22a7a417",
   "metadata": {},
   "outputs": [
    {
     "name": "stdout",
     "output_type": "stream",
     "text": [
      "4/4 [==============================] - 2s 3ms/step - loss: 22.1762 - mae: 2.9202\n",
      "Test Loss: [22.17617416381836, 2.9202380180358887]\n"
     ]
    }
   ],
   "source": [
    "loss = model.evaluate(x_test, y_test)\n",
    "print(\"Test Loss:\", loss)"
   ]
  },
  {
   "cell_type": "code",
   "execution_count": 10,
   "id": "38e7cae9",
   "metadata": {},
   "outputs": [
    {
     "name": "stdout",
     "output_type": "stream",
     "text": [
      "4/4 [==============================] - 6s 6ms/step\n"
     ]
    }
   ],
   "source": [
    "predictions = model.predict(x_test)"
   ]
  },
  {
   "cell_type": "code",
   "execution_count": 11,
   "id": "05002bad",
   "metadata": {},
   "outputs": [
    {
     "data": {
      "image/png": "[encoded data removed]",
      "text/plain": [
       "<Figure size 640x480 with 1 Axes>"
      ]
     },
     "metadata": {},
     "output_type": "display_data"
    }
   ],
   "source": [
    "train_accuracy = history.history['mae']\n",
    "val_accuracy = history.history['val_mae']\n",
    "\n",
    "# Get the number of epochs\n",
    "epochs = range(1, len(train_accuracy) + 1)\n",
    "\n",
    "# Plot the training and validation accuracy\n",
    "plt.plot(epochs, train_accuracy, 'b', label='Training MAE')\n",
    "plt.plot(epochs, val_accuracy, 'r', label='Validation MAE')\n",
    "plt.title('Training and Validation Accuracy')\n",
    "plt.xlabel('Epochs')\n",
    "plt.ylabel('MAE')\n",
    "plt.legend()\n",
    "plt.show()"
   ]
  },
  {
   "cell_type": "code",
   "execution_count": 13,
   "id": "89e6bf8f",
   "metadata": {},
   "outputs": [
    {
     "name": "stdout",
     "output_type": "stream",
     "text": [
      "Mean Absolute Error: 2.920238465888828\n"
     ]
    }
   ],
   "source": [
    "from sklearn.metrics import mean_absolute_error\n",
    "mae = mean_absolute_error(y_test, predictions)\n",
    "print(\"Mean Absolute Error:\", mae)\n"
   ]
  },
  {
   "cell_type": "code",
   "execution_count": null,
   "id": "9bb7847e",
   "metadata": {},
   "outputs": [],
   "source": []
  }
 ],
 "metadata": {
  "kernelspec": {
   "display_name": "Python 3 (ipykernel)",
   "language": "python",
   "name": "python3"
  },
  "language_info": {
   "codemirror_mode": {
    "name": "ipython",
    "version": 3
   },
   "file_extension": ".py",
   "mimetype": "text/x-python",
   "name": "python",
   "nbconvert_exporter": "python",
   "pygments_lexer": "ipython3",
   "version": "3.10.9"
  }
 },
 "nbformat": 4,
 "nbformat_minor": 5
}
