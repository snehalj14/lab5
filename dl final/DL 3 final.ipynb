{
 "cells": [
  {
   "cell_type": "code",
   "execution_count": 1,
   "id": "2442f3d6",
   "metadata": {},
   "outputs": [],
   "source": [
    "import pandas as pd\n",
    "import numpy as np\n",
    "import matplotlib.pyplot as plt\n",
    "import tensorflow as tf\n",
    "from tensorflow.keras.datasets import fashion_mnist\n",
    "from tensorflow.keras.models import Sequential\n",
    "from tensorflow.keras.layers import Dense, Dropout"
   ]
  },
  {
   "cell_type": "code",
   "execution_count": 2,
   "id": "6d0e11b6",
   "metadata": {},
   "outputs": [],
   "source": [
    "(x_train, y_train), (x_test, y_test) = fashion_mnist.load_data()"
   ]
  },
  {
   "cell_type": "code",
   "execution_count": 3,
   "id": "617c5597",
   "metadata": {},
   "outputs": [],
   "source": [
    "x_train = x_train.astype('float32') / 255.0\n",
    "x_test = x_test.astype('float32') / 255.0"
   ]
  },
  {
   "cell_type": "code",
   "execution_count": 4,
   "id": "c3988402",
   "metadata": {},
   "outputs": [],
   "source": [
    "x_train = x_train.reshape((-1, 28 * 28))\n",
    "x_test = x_test.reshape((-1, 28 * 28))"
   ]
  },
  {
   "cell_type": "code",
   "execution_count": 5,
   "id": "2eeb9028",
   "metadata": {},
   "outputs": [],
   "source": [
    "model = Sequential()\n",
    "model.add(Dense(256, activation='relu'))\n",
    "model.add(Dropout(0.5))\n",
    "model.add(Dense(128, activation='relu'))\n",
    "model.add(Dropout(0.5))\n",
    "model.add(Dense(10, activation='softmax'))"
   ]
  },
  {
   "cell_type": "code",
   "execution_count": 6,
   "id": "6bebe8bb",
   "metadata": {},
   "outputs": [],
   "source": [
    "model.compile(optimizer='adam', loss='sparse_categorical_crossentropy', metrics=['accuracy'])"
   ]
  },
  {
   "cell_type": "code",
   "execution_count": 7,
   "id": "fbe68ebc",
   "metadata": {
    "scrolled": true
   },
   "outputs": [
    {
     "name": "stdout",
     "output_type": "stream",
     "text": [
      "Epoch 1/10\n",
      "469/469 [==============================] - 8s 12ms/step - loss: 0.7401 - accuracy: 0.7370 - val_loss: 0.4808 - val_accuracy: 0.8244\n",
      "Epoch 2/10\n",
      "469/469 [==============================] - 5s 12ms/step - loss: 0.5093 - accuracy: 0.8184 - val_loss: 0.4294 - val_accuracy: 0.8422\n",
      "Epoch 3/10\n",
      "469/469 [==============================] - 5s 11ms/step - loss: 0.4589 - accuracy: 0.8354 - val_loss: 0.4157 - val_accuracy: 0.8491\n",
      "Epoch 4/10\n",
      "469/469 [==============================] - 6s 13ms/step - loss: 0.4370 - accuracy: 0.8439 - val_loss: 0.3917 - val_accuracy: 0.8568\n",
      "Epoch 5/10\n",
      "469/469 [==============================] - 6s 13ms/step - loss: 0.4193 - accuracy: 0.8477 - val_loss: 0.3712 - val_accuracy: 0.8625\n",
      "Epoch 6/10\n",
      "469/469 [==============================] - 6s 13ms/step - loss: 0.4081 - accuracy: 0.8524 - val_loss: 0.3757 - val_accuracy: 0.8657\n",
      "Epoch 7/10\n",
      "469/469 [==============================] - 6s 13ms/step - loss: 0.3904 - accuracy: 0.8587 - val_loss: 0.3613 - val_accuracy: 0.8655\n",
      "Epoch 8/10\n",
      "469/469 [==============================] - 6s 13ms/step - loss: 0.3852 - accuracy: 0.8606 - val_loss: 0.3690 - val_accuracy: 0.8597\n",
      "Epoch 9/10\n",
      "469/469 [==============================] - 7s 14ms/step - loss: 0.3782 - accuracy: 0.8624 - val_loss: 0.3577 - val_accuracy: 0.8647\n",
      "Epoch 10/10\n",
      "469/469 [==============================] - 6s 13ms/step - loss: 0.3717 - accuracy: 0.8641 - val_loss: 0.3610 - val_accuracy: 0.8693\n"
     ]
    }
   ],
   "source": [
    "history = model.fit(x_train, y_train, epochs =10, batch_size=128, validation_data=(x_test, y_test))"
   ]
  },
  {
   "cell_type": "code",
   "execution_count": 8,
   "id": "8c3bcc93",
   "metadata": {},
   "outputs": [
    {
     "name": "stdout",
     "output_type": "stream",
     "text": [
      "313/313 [==============================] - 2s 5ms/step - loss: 0.3610 - accuracy: 0.8693\n",
      "Test Loss: 0.36096879839897156\n",
      "Test Accuracy: 0.8693000078201294\n"
     ]
    }
   ],
   "source": [
    "loss, accuracy = model.evaluate(x_test, y_test)\n",
    "print(\"Test Loss:\", loss)\n",
    "print(\"Test Accuracy:\", accuracy)"
   ]
  },
  {
   "cell_type": "code",
   "execution_count": 9,
   "id": "0c976740",
   "metadata": {},
   "outputs": [
    {
     "name": "stdout",
     "output_type": "stream",
     "text": [
      "313/313 [==============================] - 2s 4ms/step\n"
     ]
    }
   ],
   "source": [
    "predictions = model.predict(x_test)"
   ]
  },
  {
   "cell_type": "code",
   "execution_count": 10,
   "id": "b3540b4a",
   "metadata": {},
   "outputs": [
    {
     "name": "stdout",
     "output_type": "stream",
     "text": [
      "Predicted class: 9\n",
      "True class: 9\n",
      "\n",
      "Predicted class: 2\n",
      "True class: 2\n",
      "\n",
      "Predicted class: 1\n",
      "True class: 1\n",
      "\n",
      "Predicted class: 1\n",
      "True class: 1\n",
      "\n",
      "Predicted class: 6\n",
      "True class: 6\n",
      "\n",
      "Predicted class: 1\n",
      "True class: 1\n",
      "\n",
      "Predicted class: 4\n",
      "True class: 4\n",
      "\n",
      "Predicted class: 6\n",
      "True class: 6\n",
      "\n",
      "Predicted class: 5\n",
      "True class: 5\n",
      "\n",
      "Predicted class: 7\n",
      "True class: 7\n",
      "\n"
     ]
    }
   ],
   "source": [
    "for i in range(10):\n",
    "    print(\"Predicted class:\", tf.argmax(predictions[i]).numpy())\n",
    "    print(\"True class:\", y_test[i])\n",
    "    print()"
   ]
  },
  {
   "cell_type": "code",
   "execution_count": 14,
   "id": "d79a410c",
   "metadata": {},
   "outputs": [
    {
     "name": "stdout",
     "output_type": "stream",
     "text": [
      "Accuracy:  0.8693\n"
     ]
    }
   ],
   "source": [
    "y_pred = np.argmax(predictions, axis=1)\n",
    "correct_predictions = np.sum(y_pred == y_test)\n",
    "total_samples = len(y_test)\n",
    "accuracy = correct_predictions / total_samples\n",
    "print('Accuracy: ', accuracy)"
   ]
  },
  {
   "cell_type": "code",
   "execution_count": null,
   "id": "48e26471",
   "metadata": {},
   "outputs": [],
   "source": []
  }
 ],
 "metadata": {
  "kernelspec": {
   "display_name": "Python 3 (ipykernel)",
   "language": "python",
   "name": "python3"
  },
  "language_info": {
   "codemirror_mode": {
    "name": "ipython",
    "version": 3
   },
   "file_extension": ".py",
   "mimetype": "text/x-python",
   "name": "python",
   "nbconvert_exporter": "python",
   "pygments_lexer": "ipython3",
   "version": "3.10.9"
  }
 },
 "nbformat": 4,
 "nbformat_minor": 5
}
